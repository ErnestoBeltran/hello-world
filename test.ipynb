{
 "cells": [
  {
   "cell_type": "code",
   "execution_count": 1,
   "metadata": {
    "collapsed": true
   },
   "outputs": [],
   "source": [
    "#%matplotlib inline\n",
    "from __future__ import division\n",
    "import numpy as np\n",
    "import matplotlib.pyplot as plt\n",
    "import ipywidgets as wg\n",
    "from IPython.display import display,HTML\n",
    "from matplotlib import animation as anim\n",
    "import matplotlib as mpl\n",
    "\n",
    "mpl.rcParams['lines.linewidth'] = 3\n",
    "mpl.rcParams['axes.grid'] = True\n",
    "#print(mpl.rcParams)"
   ]
  },
  {
   "cell_type": "markdown",
   "metadata": {},
   "source": [
    "<h1><center>Diodo</center></h1>\n",
    "\n",
    "El diodo es un componente [no lineal](url) y [asimétrico](url).\n",
    "\n",
    "En este documento se muestran algunos circuitos con diodos y su solución, tanto gráfica como analítica."
   ]
  },
  {
   "cell_type": "markdown",
   "metadata": {},
   "source": [
    "<h2><center>Ecuación de Shockley</center></h2>\n",
    "\n",
    "La ecuación de Shockley permite aproximar el comportamiento del diodo real, tanto en polarización directa como inversa, a un modelo matemático simple. $$ I_D = I_s \\left( e^{\\frac{V_Dq_e}{nKT}}-1 \\right) $$\n",
    "\n",
    "donde:\n",
    "\n",
    "- $I_D$ es la corriente del diodo,\n",
    "- $I_s$ es la corriente de saturación inversa del diodo,\n",
    "- $n$ es una constante que depende del material,\n",
    "- $K$ es la constante de boltzman,\n",
    "- $T$ es la temperatura del diodo,\n",
    "- $q_e$ es la carga del electrón"
   ]
  },
  {
   "cell_type": "markdown",
   "metadata": {},
   "source": [
    "<h2><center>Circuito R en serie con diodo en polarización directa </center></h2>\n",
    "Empleando el diodo rectificador de $Si$ $D1N4001$, se arma el siguiente circuito:\n",
    "![Alt text](images/c_R-D.svg)"
   ]
  },
  {
   "cell_type": "code",
   "execution_count": 8,
   "metadata": {},
   "outputs": [
    {
     "data": {
      "application/vnd.jupyter.widget-view+json": {
       "model_id": "a70e338f642f403aa25a3e8a0a8ed219",
       "version_major": 2,
       "version_minor": 0
      },
      "text/plain": [
       "A Jupyter Widget"
      ]
     },
     "metadata": {},
     "output_type": "display_data"
    }
   ],
   "source": [
    "R = 10\n",
    "V = np.linspace(0,1,101)\n",
    "I = V/R\n",
    "\n",
    "plt.close('all')\n",
    "fig,ax = plt.subplots()\n",
    "\n",
    "str_all = u'''\n",
    "<span style='color:red;font-weight:bold'> La primera recta </span> \n",
    "define la respuesta V-I del elemento lineal (resistencia) y es propia del mismo. <br>\n",
    "<span style='color:green;font-weight:bold'> La segunda recta </span> \n",
    "define la respuesta V-I del circuito dipolo (E-R) y es independiente del elemento no lineal. <br>\n",
    "<span style='color:blue;font-weight:bold'> La primera curva </span> \n",
    "define la respuesta V-I del elemento  no lineal (diodo) y es propia del mismo. <br>\n",
    "<span style='color:#00BFFF;font-weight:bold'> El punto de intersección </span> \n",
    "entre la <span style='color:green;font-weight:bold'> recta </span>  y \n",
    "<span style='color:blue;font-weight:bold'> la curva </span> representa el voltaje y la corriente que el dipolo (E-R)\n",
    "entregará a una carga con las características del diodo. Por lo tanto, representa el conjunto necesario para resolver el circuito.\n",
    "'''\n",
    "str_ap1 = u'''\n",
    "La primera aproximación define al diodo como un dispositivo ideal, \n",
    "el cual se comporta como un switch encendido, para polarización directa, y apagado, para polarización\n",
    "inversa.\n",
    "'''\n",
    "str_ap2 = u'''\n",
    "La segunda aproximación añade una tensión de umbral para establecer la polarización directa. \n",
    "Para un diodo de $Si$ el valor es de aproximadamente $0.7 \\ V$.\n",
    "'''\n",
    "str_sh = u'''\n",
    "La ecuación de Shockley se emplea en esta ocación para simular el comportamiento real del diodo.\n",
    "'''\n",
    "\n",
    "def aprox_1():\n",
    "    display(HTML(str_ap1))\n",
    "    ax.clear()\n",
    "    ax.plot(I,V,'r')\n",
    "    ax.plot(I,max(V)-V,'g')\n",
    "    ax.plot([0,max(I)],[0,0],'b')\n",
    "    ax.plot(max(I),0,'#00BFFF', marker='o', markersize=14)\n",
    "    ax.margins(0.01)\n",
    "    \n",
    "\n",
    "def aprox_2():\n",
    "    display(HTML(str_ap2))\n",
    "    ax.clear()\n",
    "    ax.plot(I,V,'r')\n",
    "    ax.plot(I,max(V)-V,'g')\n",
    "    ax.plot([0,0,max(I)],[0,0.7,0.7],'b')\n",
    "    ax.plot(0.03,0.7,'#00BFFF', marker='o', markersize=14)\n",
    "    ax.margins(0.01)\n",
    "\n",
    "def shockley():\n",
    "    display(HTML(str_sh))\n",
    "    k = 1.3806488e-23 # J/K\n",
    "    n = 2\n",
    "    Is = 0.1e-6 # A\n",
    "    T = 298.15 # K  25°C\n",
    "    q = 1.602176565e-19 # C\n",
    "    Vt = n*k*T/q\n",
    "    v = np.linspace(0,0.8,101)\n",
    "    Id = Is*(np.exp(v/Vt)-1)\n",
    "    idx = np.argmax(Id>=max(I)) + 1\n",
    "    ax.clear()\n",
    "    ax.plot(I,V,'r')\n",
    "    ax.plot(I,max(V)-V,'g')\n",
    "    ax.plot(Id[:idx],v[:idx],'b')\n",
    "    ax.plot(0.033,0.66,'#00BFFF', marker='o', markersize=14)\n",
    "    ax.margins(0.01)\n",
    "    \n",
    "    xlim = ax.get_xlim()\n",
    "    ax.set_xlim(xlim[0],max(I)+abs(xlim[0]))\n",
    "        \n",
    "def plot(aprox):\n",
    "    if aprox == 0:\n",
    "        aprox_1()\n",
    "    elif aprox == 1:\n",
    "        aprox_2()\n",
    "    else:\n",
    "        shockley()\n",
    "    display(HTML(str_all))\n",
    "    display(fig)\n",
    "        \n",
    "w = wg.interactive(plot,aprox={'Primera':0,'Segunda':1,u'Ecuación de Shockley':2})\n",
    "w.children[0].description=u'Aproximación'\n",
    "display(w)"
   ]
  },
  {
   "cell_type": "markdown",
   "metadata": {},
   "source": [
    "%%html\n",
    "<style>\n",
    "div.input {\n",
    "    display:none;\n",
    "}\n",
    "</style>"
   ]
  },
  {
   "cell_type": "code",
   "execution_count": 55,
   "metadata": {},
   "outputs": [
    {
     "data": {
      "text/plain": [
       "0.054036493724669156"
      ]
     },
     "execution_count": 55,
     "metadata": {},
     "output_type": "execute_result"
    }
   ],
   "source": [
    "0.1e-6*(np.exp(22*0.6))"
   ]
  }
 ],
 "metadata": {
  "kernelspec": {
   "display_name": "Python 2",
   "language": "python",
   "name": "python2"
  },
  "language_info": {
   "codemirror_mode": {
    "name": "ipython",
    "version": 2
   },
   "file_extension": ".py",
   "mimetype": "text/x-python",
   "name": "python",
   "nbconvert_exporter": "python",
   "pygments_lexer": "ipython2",
   "version": "2.7.13"
  }
 },
 "nbformat": 4,
 "nbformat_minor": 2
}
